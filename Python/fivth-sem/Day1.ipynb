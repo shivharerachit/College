{
 "cells": [
  {
   "cell_type": "code",
   "execution_count": 8,
   "id": "fb224666-1f19-4d20-903b-36048c9fb536",
   "metadata": {},
   "outputs": [
    {
     "name": "stdin",
     "output_type": "stream",
     "text": [
      "Enter the first number:  56\n",
      "Enter the second number:  23\n"
     ]
    },
    {
     "name": "stdout",
     "output_type": "stream",
     "text": [
      "79 is the sum of 56 and 23\n",
      "79 is the sum of 56 and 23\n",
      "79 ~ is the sum of ~ 56 ~ and ~ 23 ^ ^ "
     ]
    }
   ],
   "source": [
    "h1 = int(input(\"Enter the first number: \"))\n",
    "h2 = int(input(\"Enter the second number: \"))\n",
    "sum = h1 + h2\n",
    "print(sum, \"is the sum of\", h1, \"and\", h2)\n",
    "print(h1 + h2, \"is the sum of\", h1, \"and\", h2)\n",
    "print(h1 + h2, \"is the sum of\", h1, \"and\", h2, sep = \" ~ \", end = \" ^ ^ \")"
   ]
  },
  {
   "cell_type": "code",
   "execution_count": 9,
   "id": "07b8d297-d184-4375-8cb8-8a2271c97ce0",
   "metadata": {},
   "outputs": [
    {
     "data": {
      "text/plain": [
       "int"
      ]
     },
     "execution_count": 9,
     "metadata": {},
     "output_type": "execute_result"
    }
   ],
   "source": [
    "type(h1)"
   ]
  },
  {
   "cell_type": "code",
   "execution_count": 10,
   "id": "26391a0e-c004-4378-85e7-316bb252ff16",
   "metadata": {},
   "outputs": [],
   "source": [
    "x = 10 + 5j"
   ]
  },
  {
   "cell_type": "code",
   "execution_count": 11,
   "id": "260f51a8-0ff9-41d5-a95a-df4efe18d9c6",
   "metadata": {},
   "outputs": [
    {
     "data": {
      "text/plain": [
       "complex"
      ]
     },
     "execution_count": 11,
     "metadata": {},
     "output_type": "execute_result"
    }
   ],
   "source": [
    "type(x)"
   ]
  },
  {
   "cell_type": "code",
   "execution_count": 12,
   "id": "2c6d28fd-81ac-466c-9044-f4f321f11ed1",
   "metadata": {},
   "outputs": [
    {
     "name": "stdout",
     "output_type": "stream",
     "text": [
      "(10+5j)\n"
     ]
    }
   ],
   "source": [
    "print(x)"
   ]
  },
  {
   "cell_type": "code",
   "execution_count": 13,
   "id": "d6d9e451-792d-45f8-8855-e0c99c46c2be",
   "metadata": {},
   "outputs": [],
   "source": [
    "k = 20 + 8j"
   ]
  },
  {
   "cell_type": "code",
   "execution_count": 14,
   "id": "4fcd4af7-3273-4e04-ba93-1e9479081955",
   "metadata": {},
   "outputs": [
    {
     "data": {
      "text/plain": [
       "(30+13j)"
      ]
     },
     "execution_count": 14,
     "metadata": {},
     "output_type": "execute_result"
    }
   ],
   "source": [
    "x + k"
   ]
  },
  {
   "cell_type": "code",
   "execution_count": 15,
   "id": "97e019af-18a0-4897-987f-f430c209d66c",
   "metadata": {},
   "outputs": [],
   "source": [
    "num = 5>4"
   ]
  },
  {
   "cell_type": "code",
   "execution_count": 16,
   "id": "6819fd97-3adc-4b24-a662-fc6f4eff4b25",
   "metadata": {},
   "outputs": [
    {
     "data": {
      "text/plain": [
       "bool"
      ]
     },
     "execution_count": 16,
     "metadata": {},
     "output_type": "execute_result"
    }
   ],
   "source": [
    "type(num)"
   ]
  },
  {
   "cell_type": "code",
   "execution_count": 17,
   "id": "ccad0f89-5d2f-41ea-aede-eab26f785b6d",
   "metadata": {},
   "outputs": [
    {
     "data": {
      "text/plain": [
       "True"
      ]
     },
     "execution_count": 17,
     "metadata": {},
     "output_type": "execute_result"
    }
   ],
   "source": [
    "num"
   ]
  },
  {
   "cell_type": "code",
   "execution_count": 18,
   "id": "7144b1c1-05ff-4d01-aa6d-a3898decf5e1",
   "metadata": {},
   "outputs": [],
   "source": [
    "name = \"English\""
   ]
  },
  {
   "cell_type": "code",
   "execution_count": 19,
   "id": "f21b95db-5366-4afd-818b-7361cd2d6442",
   "metadata": {},
   "outputs": [
    {
     "data": {
      "text/plain": [
       "'ENGLISH'"
      ]
     },
     "execution_count": 19,
     "metadata": {},
     "output_type": "execute_result"
    }
   ],
   "source": [
    "name.upper()"
   ]
  },
  {
   "cell_type": "code",
   "execution_count": 20,
   "id": "5846b12d-6b35-4736-b873-502feb167936",
   "metadata": {},
   "outputs": [
    {
     "data": {
      "text/plain": [
       "'english'"
      ]
     },
     "execution_count": 20,
     "metadata": {},
     "output_type": "execute_result"
    }
   ],
   "source": [
    "name.lower()"
   ]
  },
  {
   "cell_type": "code",
   "execution_count": 21,
   "id": "93683903-218d-468b-9f24-f64c2c269eb2",
   "metadata": {},
   "outputs": [
    {
     "data": {
      "text/plain": [
       "'English'"
      ]
     },
     "execution_count": 21,
     "metadata": {},
     "output_type": "execute_result"
    }
   ],
   "source": [
    "name.replace('e','E')"
   ]
  },
  {
   "cell_type": "code",
   "execution_count": 25,
   "id": "45c5e4b9-f555-41c6-a449-26ed98791b70",
   "metadata": {},
   "outputs": [
    {
     "data": {
      "text/plain": [
       "'English'"
      ]
     },
     "execution_count": 25,
     "metadata": {},
     "output_type": "execute_result"
    }
   ],
   "source": [
    "name[0:7]"
   ]
  },
  {
   "cell_type": "code",
   "execution_count": null,
   "id": "a4668f46-83de-4c8a-a64f-2230c239802c",
   "metadata": {},
   "outputs": [],
   "source": []
  }
 ],
 "metadata": {
  "kernelspec": {
   "display_name": "Python 3 (ipykernel)",
   "language": "python",
   "name": "python3"
  },
  "language_info": {
   "codemirror_mode": {
    "name": "ipython",
    "version": 3
   },
   "file_extension": ".py",
   "mimetype": "text/x-python",
   "name": "python",
   "nbconvert_exporter": "python",
   "pygments_lexer": "ipython3",
   "version": "3.12.6"
  }
 },
 "nbformat": 4,
 "nbformat_minor": 5
}
