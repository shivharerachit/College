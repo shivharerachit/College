{
 "cells": [
  {
   "cell_type": "code",
   "execution_count": 6,
   "id": "3866bfdb-1f07-4236-97a8-c01da4179a17",
   "metadata": {},
   "outputs": [],
   "source": [
    "a = {\"Name\":\"Ram\", \"Age\" : 54}"
   ]
  },
  {
   "cell_type": "code",
   "execution_count": 7,
   "id": "69d0d4cd-4462-4b78-a2bb-30f746f0999b",
   "metadata": {},
   "outputs": [
    {
     "data": {
      "text/plain": [
       "{'Name': 'Ram', 'Age': 54}"
      ]
     },
     "execution_count": 7,
     "metadata": {},
     "output_type": "execute_result"
    }
   ],
   "source": [
    "a"
   ]
  },
  {
   "cell_type": "code",
   "execution_count": 8,
   "id": "68b5e883-bb34-480a-b558-0b29426bd10e",
   "metadata": {},
   "outputs": [
    {
     "data": {
      "text/plain": [
       "54"
      ]
     },
     "execution_count": 8,
     "metadata": {},
     "output_type": "execute_result"
    }
   ],
   "source": [
    "a.pop(\"Age\")"
   ]
  },
  {
   "cell_type": "code",
   "execution_count": 9,
   "id": "f43f405a-2cff-40c9-9eaa-202a9f87f6f4",
   "metadata": {},
   "outputs": [
    {
     "data": {
      "text/plain": [
       "{'Name': 'Ram'}"
      ]
     },
     "execution_count": 9,
     "metadata": {},
     "output_type": "execute_result"
    }
   ],
   "source": [
    "a"
   ]
  },
  {
   "cell_type": "code",
   "execution_count": null,
   "id": "7dcf574e-7e4e-424f-ad75-dc8f5d8cbc72",
   "metadata": {},
   "outputs": [],
   "source": []
  }
 ],
 "metadata": {
  "kernelspec": {
   "display_name": "Python 3 (ipykernel)",
   "language": "python",
   "name": "python3"
  },
  "language_info": {
   "codemirror_mode": {
    "name": "ipython",
    "version": 3
   },
   "file_extension": ".py",
   "mimetype": "text/x-python",
   "name": "python",
   "nbconvert_exporter": "python",
   "pygments_lexer": "ipython3",
   "version": "3.12.6"
  }
 },
 "nbformat": 4,
 "nbformat_minor": 5
}
